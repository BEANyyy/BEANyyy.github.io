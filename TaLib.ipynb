{
  "nbformat": 4,
  "nbformat_minor": 0,
  "metadata": {
    "colab": {
      "provenance": [],
      "authorship_tag": "ABX9TyNp1RIstoSs1XwWRljwmwIt",
      "include_colab_link": true
    },
    "kernelspec": {
      "name": "python3",
      "display_name": "Python 3"
    },
    "language_info": {
      "name": "python"
    }
  },
  "cells": [
    {
      "cell_type": "markdown",
      "metadata": {
        "id": "view-in-github",
        "colab_type": "text"
      },
      "source": [
        "<a href=\"https://colab.research.google.com/github/BEANyyy/BEANyyy.github.io/blob/master/TaLib.ipynb\" target=\"_parent\"><img src=\"https://colab.research.google.com/assets/colab-badge.svg\" alt=\"Open In Colab\"/></a>"
      ]
    },
    {
      "cell_type": "code",
      "source": [
        "from google.colab import drive\n",
        "drive.mount('/content/drive')"
      ],
      "metadata": {
        "colab": {
          "base_uri": "https://localhost:8080/"
        },
        "id": "FBB5WeXkeBuM",
        "outputId": "d430bef6-ee84-4cb9-cd11-7b63788c5135"
      },
      "execution_count": null,
      "outputs": [
        {
          "output_type": "stream",
          "name": "stdout",
          "text": [
            "Mounted at /content/drive\n"
          ]
        }
      ]
    },
    {
      "cell_type": "code",
      "source": [
        "!curl -L http://prdownloads.sourceforge.net/ta-lib/ta-lib-0.4.0-src.tar.gz -O && tar xzvf ta-lib-0.4.0-src.tar.gz\n",
        "!cd ta-lib && ./configure --prefix=/usr && make && make install && cd - && pip install ta-lib"
      ],
      "metadata": {
        "id": "sLv-WevUdrbN"
      },
      "execution_count": null,
      "outputs": []
    },
    {
      "cell_type": "code",
      "source": [
        "!pip install -U numpy"
      ],
      "metadata": {
        "colab": {
          "base_uri": "https://localhost:8080/",
          "height": 344
        },
        "id": "hubDFA4_dwlZ",
        "outputId": "65adce07-d7b4-43f0-d1dd-76239c42a6bd"
      },
      "execution_count": null,
      "outputs": [
        {
          "output_type": "stream",
          "name": "stdout",
          "text": [
            "Looking in indexes: https://pypi.org/simple, https://us-python.pkg.dev/colab-wheels/public/simple/\n",
            "Requirement already satisfied: numpy in /usr/local/lib/python3.10/dist-packages (1.22.4)\n",
            "Collecting numpy\n",
            "  Using cached numpy-1.24.3-cp310-cp310-manylinux_2_17_x86_64.manylinux2014_x86_64.whl (17.3 MB)\n",
            "Installing collected packages: numpy\n",
            "  Attempting uninstall: numpy\n",
            "    Found existing installation: numpy 1.22.4\n",
            "    Uninstalling numpy-1.22.4:\n",
            "      Successfully uninstalled numpy-1.22.4\n",
            "\u001b[31mERROR: pip's dependency resolver does not currently take into account all the packages that are installed. This behaviour is the source of the following dependency conflicts.\n",
            "numba 0.56.4 requires numpy<1.24,>=1.18, but you have numpy 1.24.3 which is incompatible.\n",
            "tensorflow 2.12.0 requires numpy<1.24,>=1.22, but you have numpy 1.24.3 which is incompatible.\u001b[0m\u001b[31m\n",
            "\u001b[0mSuccessfully installed numpy-1.24.3\n"
          ]
        },
        {
          "output_type": "display_data",
          "data": {
            "application/vnd.colab-display-data+json": {
              "pip_warning": {
                "packages": [
                  "numpy"
                ]
              }
            }
          },
          "metadata": {}
        }
      ]
    },
    {
      "cell_type": "code",
      "source": [
        "import talib as ta"
      ],
      "metadata": {
        "id": "DkhRi9cSJxb7",
        "colab": {
          "base_uri": "https://localhost:8080/",
          "height": 318
        },
        "outputId": "ac771039-3836-45f7-8fcb-165c936a2663"
      },
      "execution_count": null,
      "outputs": [
        {
          "output_type": "error",
          "ename": "ModuleNotFoundError",
          "evalue": "ignored",
          "traceback": [
            "\u001b[0;31m---------------------------------------------------------------------------\u001b[0m",
            "\u001b[0;31mModuleNotFoundError\u001b[0m                       Traceback (most recent call last)",
            "\u001b[0;32m<ipython-input-1-39fbdb69ff19>\u001b[0m in \u001b[0;36m<cell line: 1>\u001b[0;34m()\u001b[0m\n\u001b[0;32m----> 1\u001b[0;31m \u001b[0;32mimport\u001b[0m \u001b[0mtalib\u001b[0m \u001b[0;32mas\u001b[0m \u001b[0mta\u001b[0m\u001b[0;34m\u001b[0m\u001b[0;34m\u001b[0m\u001b[0m\n\u001b[0m",
            "\u001b[0;31mModuleNotFoundError\u001b[0m: No module named 'talib'",
            "",
            "\u001b[0;31m---------------------------------------------------------------------------\u001b[0;32m\nNOTE: If your import is failing due to a missing package, you can\nmanually install dependencies using either !pip or !apt.\n\nTo view examples of installing some common dependencies, click the\n\"Open Examples\" button below.\n\u001b[0;31m---------------------------------------------------------------------------\u001b[0m\n"
          ],
          "errorDetails": {
            "actions": [
              {
                "action": "open_url",
                "actionText": "Open Examples",
                "url": "/notebooks/snippets/importing_libraries.ipynb"
              }
            ]
          }
        }
      ]
    },
    {
      "cell_type": "code",
      "source": [
        "import pandas as pd\n",
        "from ta import *\n",
        "from ta import add_all_ta_features\n",
        "from ta.utils import dropna"
      ],
      "metadata": {
        "id": "TPyBu0jyEDyt"
      },
      "execution_count": null,
      "outputs": []
    },
    {
      "cell_type": "code",
      "source": [
        "import numpy as np\n",
        "import matplotlib.pyplot as plt\n",
        "from ta.trend import*\n",
        "from ta.momentum import*\n",
        "from ta.trend import SMAIndicator\n",
        "\n",
        "# Load the stock data\n",
        "stock_data = pd.read_csv(\"/content/drive/MyDrive/0_Capstone/예빈 작업실/stock_data.csv\")"
      ],
      "metadata": {
        "id": "Asv5SuEnf7QS"
      },
      "execution_count": null,
      "outputs": []
    },
    {
      "cell_type": "code",
      "source": [
        "stock_data"
      ],
      "metadata": {
        "colab": {
          "base_uri": "https://localhost:8080/",
          "height": 423
        },
        "id": "8_CuX16Kf7vG",
        "outputId": "2d0cdcea-b5ee-45bc-b850-daab75264845"
      },
      "execution_count": null,
      "outputs": [
        {
          "output_type": "execute_result",
          "data": {
            "text/plain": [
              "            Date   Open   High    Low  Close    Volume  Name\n",
              "0       1/3/2006  39.69  41.22  38.79  40.91  24232729  AABA\n",
              "1       1/4/2006  41.22  41.90  40.77  40.97  20553479  AABA\n",
              "2       1/5/2006  40.93  41.73  40.85  41.53  12829610  AABA\n",
              "3       1/6/2006  42.88  43.57  42.80  43.21  29422828  AABA\n",
              "4       1/9/2006  43.10  43.66  42.82  43.42  16268338  AABA\n",
              "...          ...    ...    ...    ...    ...       ...   ...\n",
              "3014  12/22/2017  71.42  71.87  71.22  71.58  10979165  AABA\n",
              "3015  12/26/2017  70.94  71.39  69.63  69.86   8542802  AABA\n",
              "3016  12/27/2017  69.77  70.49  69.69  70.06   6345124  AABA\n",
              "3017  12/28/2017  70.12  70.32  69.51  69.82   7556877  AABA\n",
              "3018  12/29/2017  69.79  70.13  69.43  69.85   6613070  AABA\n",
              "\n",
              "[3019 rows x 7 columns]"
            ],
            "text/html": [
              "\n",
              "  <div id=\"df-7cf77444-3bb6-434a-b552-3f69245aca89\">\n",
              "    <div class=\"colab-df-container\">\n",
              "      <div>\n",
              "<style scoped>\n",
              "    .dataframe tbody tr th:only-of-type {\n",
              "        vertical-align: middle;\n",
              "    }\n",
              "\n",
              "    .dataframe tbody tr th {\n",
              "        vertical-align: top;\n",
              "    }\n",
              "\n",
              "    .dataframe thead th {\n",
              "        text-align: right;\n",
              "    }\n",
              "</style>\n",
              "<table border=\"1\" class=\"dataframe\">\n",
              "  <thead>\n",
              "    <tr style=\"text-align: right;\">\n",
              "      <th></th>\n",
              "      <th>Date</th>\n",
              "      <th>Open</th>\n",
              "      <th>High</th>\n",
              "      <th>Low</th>\n",
              "      <th>Close</th>\n",
              "      <th>Volume</th>\n",
              "      <th>Name</th>\n",
              "    </tr>\n",
              "  </thead>\n",
              "  <tbody>\n",
              "    <tr>\n",
              "      <th>0</th>\n",
              "      <td>1/3/2006</td>\n",
              "      <td>39.69</td>\n",
              "      <td>41.22</td>\n",
              "      <td>38.79</td>\n",
              "      <td>40.91</td>\n",
              "      <td>24232729</td>\n",
              "      <td>AABA</td>\n",
              "    </tr>\n",
              "    <tr>\n",
              "      <th>1</th>\n",
              "      <td>1/4/2006</td>\n",
              "      <td>41.22</td>\n",
              "      <td>41.90</td>\n",
              "      <td>40.77</td>\n",
              "      <td>40.97</td>\n",
              "      <td>20553479</td>\n",
              "      <td>AABA</td>\n",
              "    </tr>\n",
              "    <tr>\n",
              "      <th>2</th>\n",
              "      <td>1/5/2006</td>\n",
              "      <td>40.93</td>\n",
              "      <td>41.73</td>\n",
              "      <td>40.85</td>\n",
              "      <td>41.53</td>\n",
              "      <td>12829610</td>\n",
              "      <td>AABA</td>\n",
              "    </tr>\n",
              "    <tr>\n",
              "      <th>3</th>\n",
              "      <td>1/6/2006</td>\n",
              "      <td>42.88</td>\n",
              "      <td>43.57</td>\n",
              "      <td>42.80</td>\n",
              "      <td>43.21</td>\n",
              "      <td>29422828</td>\n",
              "      <td>AABA</td>\n",
              "    </tr>\n",
              "    <tr>\n",
              "      <th>4</th>\n",
              "      <td>1/9/2006</td>\n",
              "      <td>43.10</td>\n",
              "      <td>43.66</td>\n",
              "      <td>42.82</td>\n",
              "      <td>43.42</td>\n",
              "      <td>16268338</td>\n",
              "      <td>AABA</td>\n",
              "    </tr>\n",
              "    <tr>\n",
              "      <th>...</th>\n",
              "      <td>...</td>\n",
              "      <td>...</td>\n",
              "      <td>...</td>\n",
              "      <td>...</td>\n",
              "      <td>...</td>\n",
              "      <td>...</td>\n",
              "      <td>...</td>\n",
              "    </tr>\n",
              "    <tr>\n",
              "      <th>3014</th>\n",
              "      <td>12/22/2017</td>\n",
              "      <td>71.42</td>\n",
              "      <td>71.87</td>\n",
              "      <td>71.22</td>\n",
              "      <td>71.58</td>\n",
              "      <td>10979165</td>\n",
              "      <td>AABA</td>\n",
              "    </tr>\n",
              "    <tr>\n",
              "      <th>3015</th>\n",
              "      <td>12/26/2017</td>\n",
              "      <td>70.94</td>\n",
              "      <td>71.39</td>\n",
              "      <td>69.63</td>\n",
              "      <td>69.86</td>\n",
              "      <td>8542802</td>\n",
              "      <td>AABA</td>\n",
              "    </tr>\n",
              "    <tr>\n",
              "      <th>3016</th>\n",
              "      <td>12/27/2017</td>\n",
              "      <td>69.77</td>\n",
              "      <td>70.49</td>\n",
              "      <td>69.69</td>\n",
              "      <td>70.06</td>\n",
              "      <td>6345124</td>\n",
              "      <td>AABA</td>\n",
              "    </tr>\n",
              "    <tr>\n",
              "      <th>3017</th>\n",
              "      <td>12/28/2017</td>\n",
              "      <td>70.12</td>\n",
              "      <td>70.32</td>\n",
              "      <td>69.51</td>\n",
              "      <td>69.82</td>\n",
              "      <td>7556877</td>\n",
              "      <td>AABA</td>\n",
              "    </tr>\n",
              "    <tr>\n",
              "      <th>3018</th>\n",
              "      <td>12/29/2017</td>\n",
              "      <td>69.79</td>\n",
              "      <td>70.13</td>\n",
              "      <td>69.43</td>\n",
              "      <td>69.85</td>\n",
              "      <td>6613070</td>\n",
              "      <td>AABA</td>\n",
              "    </tr>\n",
              "  </tbody>\n",
              "</table>\n",
              "<p>3019 rows × 7 columns</p>\n",
              "</div>\n",
              "      <button class=\"colab-df-convert\" onclick=\"convertToInteractive('df-7cf77444-3bb6-434a-b552-3f69245aca89')\"\n",
              "              title=\"Convert this dataframe to an interactive table.\"\n",
              "              style=\"display:none;\">\n",
              "        \n",
              "  <svg xmlns=\"http://www.w3.org/2000/svg\" height=\"24px\"viewBox=\"0 0 24 24\"\n",
              "       width=\"24px\">\n",
              "    <path d=\"M0 0h24v24H0V0z\" fill=\"none\"/>\n",
              "    <path d=\"M18.56 5.44l.94 2.06.94-2.06 2.06-.94-2.06-.94-.94-2.06-.94 2.06-2.06.94zm-11 1L8.5 8.5l.94-2.06 2.06-.94-2.06-.94L8.5 2.5l-.94 2.06-2.06.94zm10 10l.94 2.06.94-2.06 2.06-.94-2.06-.94-.94-2.06-.94 2.06-2.06.94z\"/><path d=\"M17.41 7.96l-1.37-1.37c-.4-.4-.92-.59-1.43-.59-.52 0-1.04.2-1.43.59L10.3 9.45l-7.72 7.72c-.78.78-.78 2.05 0 2.83L4 21.41c.39.39.9.59 1.41.59.51 0 1.02-.2 1.41-.59l7.78-7.78 2.81-2.81c.8-.78.8-2.07 0-2.86zM5.41 20L4 18.59l7.72-7.72 1.47 1.35L5.41 20z\"/>\n",
              "  </svg>\n",
              "      </button>\n",
              "      \n",
              "  <style>\n",
              "    .colab-df-container {\n",
              "      display:flex;\n",
              "      flex-wrap:wrap;\n",
              "      gap: 12px;\n",
              "    }\n",
              "\n",
              "    .colab-df-convert {\n",
              "      background-color: #E8F0FE;\n",
              "      border: none;\n",
              "      border-radius: 50%;\n",
              "      cursor: pointer;\n",
              "      display: none;\n",
              "      fill: #1967D2;\n",
              "      height: 32px;\n",
              "      padding: 0 0 0 0;\n",
              "      width: 32px;\n",
              "    }\n",
              "\n",
              "    .colab-df-convert:hover {\n",
              "      background-color: #E2EBFA;\n",
              "      box-shadow: 0px 1px 2px rgba(60, 64, 67, 0.3), 0px 1px 3px 1px rgba(60, 64, 67, 0.15);\n",
              "      fill: #174EA6;\n",
              "    }\n",
              "\n",
              "    [theme=dark] .colab-df-convert {\n",
              "      background-color: #3B4455;\n",
              "      fill: #D2E3FC;\n",
              "    }\n",
              "\n",
              "    [theme=dark] .colab-df-convert:hover {\n",
              "      background-color: #434B5C;\n",
              "      box-shadow: 0px 1px 3px 1px rgba(0, 0, 0, 0.15);\n",
              "      filter: drop-shadow(0px 1px 2px rgba(0, 0, 0, 0.3));\n",
              "      fill: #FFFFFF;\n",
              "    }\n",
              "  </style>\n",
              "\n",
              "      <script>\n",
              "        const buttonEl =\n",
              "          document.querySelector('#df-7cf77444-3bb6-434a-b552-3f69245aca89 button.colab-df-convert');\n",
              "        buttonEl.style.display =\n",
              "          google.colab.kernel.accessAllowed ? 'block' : 'none';\n",
              "\n",
              "        async function convertToInteractive(key) {\n",
              "          const element = document.querySelector('#df-7cf77444-3bb6-434a-b552-3f69245aca89');\n",
              "          const dataTable =\n",
              "            await google.colab.kernel.invokeFunction('convertToInteractive',\n",
              "                                                     [key], {});\n",
              "          if (!dataTable) return;\n",
              "\n",
              "          const docLinkHtml = 'Like what you see? Visit the ' +\n",
              "            '<a target=\"_blank\" href=https://colab.research.google.com/notebooks/data_table.ipynb>data table notebook</a>'\n",
              "            + ' to learn more about interactive tables.';\n",
              "          element.innerHTML = '';\n",
              "          dataTable['output_type'] = 'display_data';\n",
              "          await google.colab.output.renderOutput(dataTable, element);\n",
              "          const docLink = document.createElement('div');\n",
              "          docLink.innerHTML = docLinkHtml;\n",
              "          element.appendChild(docLink);\n",
              "        }\n",
              "      </script>\n",
              "    </div>\n",
              "  </div>\n",
              "  "
            ]
          },
          "metadata": {},
          "execution_count": 13
        }
      ]
    },
    {
      "cell_type": "markdown",
      "source": [
        "이동평균"
      ],
      "metadata": {
        "id": "aygYY-6EEcd9"
      }
    },
    {
      "cell_type": "code",
      "source": [
        "import numpy as np\n",
        "import matplotlib.pyplot as plt\n",
        "from ta.trend import*\n",
        "from ta.momentum import*\n",
        "from ta.trend import SMAIndicator\n",
        "\n",
        "# Load the stock data\n",
        "stock_data = pd.read_csv(\"/content/drive/MyDrive/0_Capstone/예빈 작업실/stock_data.csv\")\n",
        "\n",
        "# Calculate the SMA using the close prices\n",
        "sma_class = SMAIndicator(stock_data[\"Close\"], window=20)\n",
        "sma = sma_class.sma_indicator()\n",
        "\n",
        "# Plot the stock data and SMA\n",
        "plt.figure(figsize=(15, 5))\n",
        "plt.plot(stock_data[\"Close\"])\n",
        "plt.plot(sma, label=\"20-day SMA\")\n",
        "plt.legend()\n",
        "plt.show()"
      ],
      "metadata": {
        "colab": {
          "base_uri": "https://localhost:8080/",
          "height": 245
        },
        "id": "ZEnU5bOiEish",
        "outputId": "143cef67-770f-4aee-d5c5-cff8d4380d23"
      },
      "execution_count": null,
      "outputs": [
        {
          "output_type": "display_data",
          "data": {
            "text/plain": [
              "<Figure size 1500x500 with 1 Axes>"
            ],
            "image/png": "[encoded data removed]"
          },
          "metadata": {}
        }
      ]
    },
    {
      "cell_type": "markdown",
      "source": [
        "스토케스틱"
      ],
      "metadata": {
        "id": "yWTeela3ITRt"
      }
    },
    {
      "cell_type": "code",
      "source": [
        "from ta.momentum import stoch\n",
        "\n",
        "stochastic_oscillator = stoch(stock_data[\"High\"], stock_data[\"Low\"], stock_data[\"Close\"], window=14, smooth_window=3, fillna=False)"
      ],
      "metadata": {
        "id": "4GvmDGR9ITAh"
      },
      "execution_count": null,
      "outputs": []
    },
    {
      "cell_type": "markdown",
      "source": [
        "RSI"
      ],
      "metadata": {
        "id": "Tw-yR2BGMD5g"
      }
    },
    {
      "cell_type": "code",
      "source": [
        "from ta.momentum import rsi\n",
        "\n",
        "rsi = rsi(stock_data[\"Close\"], window=14, fillna=False)\n",
        "rsi"
      ],
      "metadata": {
        "id": "qxQv1YJ1ME7t",
        "colab": {
          "base_uri": "https://localhost:8080/"
        },
        "outputId": "71e088aa-c00e-49f5-9ffd-5c2a9526a30d"
      },
      "execution_count": null,
      "outputs": [
        {
          "output_type": "execute_result",
          "data": {
            "text/plain": [
              "0             NaN\n",
              "1             NaN\n",
              "2             NaN\n",
              "3             NaN\n",
              "4             NaN\n",
              "          ...    \n",
              "3014    56.037363\n",
              "3015    47.549885\n",
              "3016    48.526164\n",
              "3017    47.386318\n",
              "3018    47.552159\n",
              "Name: rsi, Length: 3019, dtype: float64"
            ]
          },
          "metadata": {},
          "execution_count": 12
        }
      ]
    },
    {
      "cell_type": "markdown",
      "source": [
        "RSI -> 시그널 변환"
      ],
      "metadata": {
        "id": "-nCdnTLmeen7"
      }
    },
    {
      "cell_type": "code",
      "source": [
        "#https://towardsdatascience.com/trading-strategy-technical-analysis-with-python-ta-lib-3ce9d6ce5614\n",
        "holdings = pd.DataFrame(index=price.index, data={'Holdings': np.array([np.nan] * index.shape[0])})\n",
        "holdings.loc[((price['RSI'] < 30) & (price['BBP'] < 0)), 'Holdings'] = max_holding\n",
        "holdings.loc[((price['RSI'] > 70) & (price['BBP'] > 1)), 'Holdings'] = 0\n",
        "holdings.ffill(inplace=True)\n",
        "holdings.fillna(0, inplace=True)"
      ],
      "metadata": {
        "id": "8lEj_L2Tehb7"
      },
      "execution_count": null,
      "outputs": []
    },
    {
      "cell_type": "markdown",
      "source": [
        "볼린저 밴드"
      ],
      "metadata": {
        "id": "WhKsGwspMXxa"
      }
    },
    {
      "cell_type": "code",
      "source": [
        "from ta.volatility import BollingerBands\n",
        "bands = BollingerBands(stock_data[\"Close\"], window=20, window_dev=2, fillna= False)\n",
        "print(bands)\n",
        "#upper, middle, lower"
      ],
      "metadata": {
        "colab": {
          "base_uri": "https://localhost:8080/"
        },
        "id": "UgnvgPgaMYS9",
        "outputId": "ef640d55-df19-4275-e2b5-70e8fb298ead"
      },
      "execution_count": null,
      "outputs": [
        {
          "output_type": "stream",
          "name": "stdout",
          "text": [
            "<ta.volatility.BollingerBands object at 0x7f582bf72e30>\n"
          ]
        }
      ]
    },
    {
      "cell_type": "markdown",
      "source": [
        "macd"
      ],
      "metadata": {
        "id": "PLaAEfsnOFR-"
      }
    },
    {
      "cell_type": "code",
      "source": [
        "from ta.trend import macd\n",
        "macd = macd(stock_data[\"Close\"], window_slow=26, window_fast=12, fillna=False)\n",
        "macd_signal = macd_signal(stock_data[\"Close\"], window_slow=26, window_fast=12, window_sign=9, fillna=False)\n",
        "macd_hist = macd_diff(stock_data[\"Close\"], window_slow=26, window_fast=12, window_sign=9, fillna=False)"
      ],
      "metadata": {
        "id": "uKsogXpLOGRV"
      },
      "execution_count": null,
      "outputs": []
    },
    {
      "cell_type": "markdown",
      "source": [
        "AD"
      ],
      "metadata": {
        "id": "Cq-Na_lSO_G1"
      }
    },
    {
      "cell_type": "code",
      "source": [
        "ad = adx(stock_data[\"High\"], stock_data[\"Low\"], stock_data[\"Close\"], window=14, fillna=False)\n",
        "#ad = talib.AD(stock_data[\"High\"], stock_data[\"Low\"], stock_data[\"Close\"], stock_data[\"Volume\"])"
      ],
      "metadata": {
        "colab": {
          "base_uri": "https://localhost:8080/"
        },
        "id": "SqREU1ZUO_o-",
        "outputId": "1d544715-b3d8-42db-c9d6-9506f2c17471"
      },
      "execution_count": null,
      "outputs": [
        {
          "output_type": "stream",
          "name": "stderr",
          "text": [
            "/usr/local/lib/python3.10/dist-packages/ta/trend.py:780: RuntimeWarning: invalid value encountered in double_scalars\n",
            "  dip[idx] = 100 * (self._dip[idx] / value)\n",
            "/usr/local/lib/python3.10/dist-packages/ta/trend.py:785: RuntimeWarning: invalid value encountered in double_scalars\n",
            "  din[idx] = 100 * (self._din[idx] / value)\n"
          ]
        }
      ]
    },
    {
      "cell_type": "markdown",
      "source": [
        "aroonup, aroondown"
      ],
      "metadata": {
        "id": "0xZOwapIQAFt"
      }
    },
    {
      "cell_type": "code",
      "source": [
        "aroon_up=aroon_up(stock_data[\"High\"], window=14, fillna=False)\n",
        "aroon_down=aroon_down(stock_data[\"Low\"], window=14, fillna=False)"
      ],
      "metadata": {
        "colab": {
          "base_uri": "https://localhost:8080/",
          "height": 190
        },
        "id": "33btPK28QDF1",
        "outputId": "348c3a96-5235-455e-f624-75b501582873"
      },
      "execution_count": null,
      "outputs": [
        {
          "output_type": "error",
          "ename": "TypeError",
          "evalue": "ignored",
          "traceback": [
            "\u001b[0;31m---------------------------------------------------------------------------\u001b[0m",
            "\u001b[0;31mTypeError\u001b[0m                                 Traceback (most recent call last)",
            "\u001b[0;32m<ipython-input-58-cd0f3ebf691d>\u001b[0m in \u001b[0;36m<cell line: 1>\u001b[0;34m()\u001b[0m\n\u001b[0;32m----> 1\u001b[0;31m \u001b[0maroon_up\u001b[0m\u001b[0;34m=\u001b[0m\u001b[0maroon_up\u001b[0m\u001b[0;34m(\u001b[0m\u001b[0mstock_data\u001b[0m\u001b[0;34m[\u001b[0m\u001b[0;34m\"High\"\u001b[0m\u001b[0;34m]\u001b[0m\u001b[0;34m,\u001b[0m \u001b[0mwindow\u001b[0m\u001b[0;34m=\u001b[0m\u001b[0;36m14\u001b[0m\u001b[0;34m,\u001b[0m \u001b[0mfillna\u001b[0m\u001b[0;34m=\u001b[0m\u001b[0;32mFalse\u001b[0m\u001b[0;34m)\u001b[0m\u001b[0;34m\u001b[0m\u001b[0;34m\u001b[0m\u001b[0m\n\u001b[0m\u001b[1;32m      2\u001b[0m \u001b[0maroon_down\u001b[0m\u001b[0;34m=\u001b[0m\u001b[0maroon_down\u001b[0m\u001b[0;34m(\u001b[0m\u001b[0mstock_data\u001b[0m\u001b[0;34m[\u001b[0m\u001b[0;34m\"Low\"\u001b[0m\u001b[0;34m]\u001b[0m\u001b[0;34m,\u001b[0m \u001b[0mwindow\u001b[0m\u001b[0;34m=\u001b[0m\u001b[0;36m14\u001b[0m\u001b[0;34m,\u001b[0m \u001b[0mfillna\u001b[0m\u001b[0;34m=\u001b[0m\u001b[0;32mFalse\u001b[0m\u001b[0;34m)\u001b[0m\u001b[0;34m\u001b[0m\u001b[0;34m\u001b[0m\u001b[0m\n",
            "\u001b[0;31mTypeError\u001b[0m: 'Series' object is not callable"
          ]
        }
      ]
    },
    {
      "cell_type": "code",
      "source": [
        "import numpy as np\n",
        "import pandas as pd\n",
        "#from trade.util.db_helper import *\n",
        "from ta.trend import IchimokuIndicator\n",
        "import matplotlib.dates as mdates\n",
        "from mplfinance.original_flavor import candlestick_ohlc\n",
        "from matplotlib import rc, font_manager\n",
        "import matplotlib.pyplot as plt\n",
        "import matplotlib.gridspec as gridspec\n",
        "\n",
        "# 종목코드\n",
        "code = '010060'\n",
        "db_name = 'RSIStrategy'\n",
        "\n",
        "# 300건으로 분석\n",
        "sql = f\"\"\"\n",
        "SELECT *\n",
        "FROM (\n",
        "SELECT `index`, open, high, low, close, volumn as volume FROM `{code}` ORDER BY `index` DESC LIMIT 300\n",
        ")\n",
        "ORDER BY `INDEX`\n",
        "\"\"\"\n",
        "\n",
        "# database에서 일별 거래정보 조회\n",
        "cur = execute_sql(db_name, sql)\n",
        "\n",
        "cols = [column[0] for column in cur.description]\n",
        "df = pd.DataFrame.from_records(data=cur.fetchall(), columns=cols)\n",
        "df = df.set_index('index')\n",
        "\n",
        "# 일목균형표 데이터 생성\n",
        "id_ichimoku = IchimokuIndicator(high=df['high'], low=df['low'], visual=True, fillna=True)\n",
        "df['span_a'] = id_ichimoku.ichimoku_a()\n",
        "df['span_b'] = id_ichimoku.ichimoku_b()\n",
        "df['base_line'] = id_ichimoku.ichimoku_base_line()\n",
        "df['conv_line'] = id_ichimoku.ichimoku_conversion_line()\n",
        "\n",
        "# 한글폰트\n",
        "f_path = \"C:/windows/Fonts/malgun.ttf\"\n",
        "font_manager.FontProperties(fname=f_path).get_name()\n",
        "rc('font', family='Malgun Gothic')\n",
        "\n",
        "fig = plt.figure(figsize=(12, 8))\n",
        "fig.set_facecolor('w')\n",
        "gs = gridspec.GridSpec(2, 1, height_ratios=[3, 1])\n",
        "\n",
        "# fig, ax = plt.subplots(1, 1, figsize=(10, 6), constrained_layout=True)\n",
        "axs = []\n",
        "axs.append(plt.subplot(gs[0]))\n",
        "axs.append(plt.subplot(gs[1], sharex=axs[0]))\n",
        "\n",
        "for ax in axs:\n",
        "    ax.xaxis.set_major_locator(mdates.MonthLocator(bymonth=range(1, 13)))\n",
        "    ax.xaxis.set_minor_locator(mdates.MonthLocator())\n",
        "\n",
        "# ax. 캔들 차트\n",
        "ax = axs[0]\n",
        "x = np.arange(len(df.index))\n",
        "ohlc = df[['open', 'high', 'low', 'close']].astype(int).values\n",
        "dohlc = np.hstack((np.reshape(x, (-1, 1)), ohlc))\n",
        "candlestick_ohlc(ax, dohlc, width=0.5, colorup='r', colordown='b')\n",
        "\n",
        "# 일목균형표 추가\n",
        "# ax.plot(df.close, label='close', linestyle='solid', color='purple', linewidth=2)\n",
        "ax.plot(df.span_a, label='span_a', linestyle='solid', color='pink')\n",
        "ax.plot(df.span_b, label='span_b', linestyle='solid', color='lightsteelblue')\n",
        "ax.plot(df.base_line, label='base_line', linestyle='solid', color='green', linewidth=2)\n",
        "ax.plot(df.conv_line, label='conv_line', linestyle='solid', color='darkorange')\n",
        "ax.grid(True, axis='y', color='grey', alpha=0.5, linestyle='--')\n",
        "ax.fill_between(df.index, df.span_a, df.span_b, alpha=0.3)\n",
        "\n",
        "ax.set_title(f'OCI({code}) - 일목균형표')\n",
        "ax.legend()\n",
        "\n",
        "# ax2. 거래량 차트\n",
        "ax2 = axs[1]\n",
        "ax2.bar(x, df['volume'], color='k', width=0.6, align='center')\n",
        "\n",
        "plt.tight_layout()\n",
        "plt.show()\n"
      ],
      "metadata": {
        "colab": {
          "base_uri": "https://localhost:8080/",
          "height": 390
        },
        "id": "1D7-Ld-HF0wA",
        "outputId": "9d3cb169-4e5b-4c08-fc81-4ac12b09b9e0"
      },
      "execution_count": null,
      "outputs": [
        {
          "output_type": "error",
          "ename": "ModuleNotFoundError",
          "evalue": "ignored",
          "traceback": [
            "\u001b[0;31m---------------------------------------------------------------------------\u001b[0m",
            "\u001b[0;31mModuleNotFoundError\u001b[0m                       Traceback (most recent call last)",
            "\u001b[0;32m<ipython-input-19-dcbc1aa929d5>\u001b[0m in \u001b[0;36m<cell line: 3>\u001b[0;34m()\u001b[0m\n\u001b[1;32m      1\u001b[0m \u001b[0;32mimport\u001b[0m \u001b[0mnumpy\u001b[0m \u001b[0;32mas\u001b[0m \u001b[0mnp\u001b[0m\u001b[0;34m\u001b[0m\u001b[0;34m\u001b[0m\u001b[0m\n\u001b[1;32m      2\u001b[0m \u001b[0;32mimport\u001b[0m \u001b[0mpandas\u001b[0m \u001b[0;32mas\u001b[0m \u001b[0mpd\u001b[0m\u001b[0;34m\u001b[0m\u001b[0;34m\u001b[0m\u001b[0m\n\u001b[0;32m----> 3\u001b[0;31m \u001b[0;32mfrom\u001b[0m \u001b[0mtrade\u001b[0m\u001b[0;34m.\u001b[0m\u001b[0mutil\u001b[0m\u001b[0;34m.\u001b[0m\u001b[0mdb_helper\u001b[0m \u001b[0;32mimport\u001b[0m \u001b[0;34m*\u001b[0m\u001b[0;34m\u001b[0m\u001b[0;34m\u001b[0m\u001b[0m\n\u001b[0m\u001b[1;32m      4\u001b[0m \u001b[0;32mfrom\u001b[0m \u001b[0mta\u001b[0m\u001b[0;34m.\u001b[0m\u001b[0mtrend\u001b[0m \u001b[0;32mimport\u001b[0m \u001b[0mIchimokuIndicator\u001b[0m\u001b[0;34m\u001b[0m\u001b[0;34m\u001b[0m\u001b[0m\n\u001b[1;32m      5\u001b[0m \u001b[0;32mimport\u001b[0m \u001b[0mmatplotlib\u001b[0m\u001b[0;34m.\u001b[0m\u001b[0mdates\u001b[0m \u001b[0;32mas\u001b[0m \u001b[0mmdates\u001b[0m\u001b[0;34m\u001b[0m\u001b[0;34m\u001b[0m\u001b[0m\n",
            "\u001b[0;31mModuleNotFoundError\u001b[0m: No module named 'trade.util'",
            "",
            "\u001b[0;31m---------------------------------------------------------------------------\u001b[0;32m\nNOTE: If your import is failing due to a missing package, you can\nmanually install dependencies using either !pip or !apt.\n\nTo view examples of installing some common dependencies, click the\n\"Open Examples\" button below.\n\u001b[0;31m---------------------------------------------------------------------------\u001b[0m\n"
          ],
          "errorDetails": {
            "actions": [
              {
                "action": "open_url",
                "actionText": "Open Examples",
                "url": "/notebooks/snippets/importing_libraries.ipynb"
              }
            ]
          }
        }
      ]
    }
  ]
}